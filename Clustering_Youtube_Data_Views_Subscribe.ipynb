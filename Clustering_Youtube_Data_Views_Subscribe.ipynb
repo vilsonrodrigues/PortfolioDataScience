{
  "nbformat": 4,
  "nbformat_minor": 0,
  "metadata": {
    "colab": {
      "name": "Clustering_Youtube_Data_Views_Subscribe.ipynb",
      "provenance": [],
      "authorship_tag": "ABX9TyNaFjWzFV5+y+JvNddUMw3/",
      "include_colab_link": true
    },
    "kernelspec": {
      "name": "python3",
      "display_name": "Python 3"
    }
  },
  "cells": [
    {
      "cell_type": "markdown",
      "metadata": {
        "id": "view-in-github",
        "colab_type": "text"
      },
      "source": [
        "<a href=\"https://colab.research.google.com/github/vilsonrodrigues/PortfolioDataScience/blob/master/Clustering_Youtube_Data_Views_Subscribe.ipynb\" target=\"_parent\"><img src=\"https://colab.research.google.com/assets/colab-badge.svg\" alt=\"Open In Colab\"/></a>"
      ]
    },
    {
      "cell_type": "markdown",
      "metadata": {
        "id": "NqGXSIlGueFv"
      },
      "source": [
        "Este experimento busca realizar a tentativa de clusterizar dados do youtube sobre inscritos e números de visualização para agrupar por similiaridade"
      ]
    },
    {
      "cell_type": "markdown",
      "metadata": {
        "id": "VPse5hZdU6CI"
      },
      "source": [
        "Libs"
      ]
    },
    {
      "cell_type": "code",
      "metadata": {
        "id": "_yvqxh0BUylM"
      },
      "source": [
        "import pandas as pd\r\n",
        "import numpy as np\r\n",
        "import matplotlib.pyplot as plt\r\n",
        "import seaborn as sns\r\n",
        "from scipy.cluster.hierarchy import dendrogram, linkage\r\n",
        "from sklearn.cluster import AgglomerativeClustering\r\n",
        "from sklearn.cluster import KMeans"
      ],
      "execution_count": 13,
      "outputs": []
    },
    {
      "cell_type": "markdown",
      "metadata": {
        "id": "Atvq_krKydTX"
      },
      "source": [
        "### Pré-Processamento e Visualização dos Dados"
      ]
    },
    {
      "cell_type": "markdown",
      "metadata": {
        "id": "vggwcM31bF3h"
      },
      "source": [
        "Leitura dos dados"
      ]
    },
    {
      "cell_type": "code",
      "metadata": {
        "id": "hIUd2NrCbHwk"
      },
      "source": [
        "df = pd.read_csv('https://raw.githubusercontent.com/lucaslattari/MachineLearningSeries/master/Ep%2022/svbr.csv',sep=';')"
      ],
      "execution_count": 14,
      "outputs": []
    },
    {
      "cell_type": "markdown",
      "metadata": {
        "id": "r8RFoIbWdMu1"
      },
      "source": [
        "Tem uma linha que tem valores NaN"
      ]
    },
    {
      "cell_type": "code",
      "metadata": {
        "colab": {
          "base_uri": "https://localhost:8080/"
        },
        "id": "xZCgiqe8dJsw",
        "outputId": "a5a13ad6-3e07-4cd8-ccb3-1616f4a75593"
      },
      "source": [
        "df.info()"
      ],
      "execution_count": 15,
      "outputs": [
        {
          "output_type": "stream",
          "text": [
            "<class 'pandas.core.frame.DataFrame'>\n",
            "RangeIndex: 47 entries, 0 to 46\n",
            "Data columns (total 3 columns):\n",
            " #   Column         Non-Null Count  Dtype  \n",
            "---  ------         --------------  -----  \n",
            " 0   Canal          47 non-null     object \n",
            " 1   Inscritos      46 non-null     float64\n",
            " 2   Visualizações  46 non-null     float64\n",
            "dtypes: float64(2), object(1)\n",
            "memory usage: 1.2+ KB\n"
          ],
          "name": "stdout"
        }
      ]
    },
    {
      "cell_type": "markdown",
      "metadata": {
        "id": "6jSYfNZRdauH"
      },
      "source": [
        "Apagando linha com valor NaN"
      ]
    },
    {
      "cell_type": "code",
      "metadata": {
        "id": "ZIz5b6RrdR3V"
      },
      "source": [
        "df = df.dropna()"
      ],
      "execution_count": 16,
      "outputs": []
    },
    {
      "cell_type": "code",
      "metadata": {
        "colab": {
          "base_uri": "https://localhost:8080/"
        },
        "id": "uGOFs6rEfrxx",
        "outputId": "502f161b-7046-4269-eab7-2c90433cdf8e"
      },
      "source": [
        "df.info()"
      ],
      "execution_count": 17,
      "outputs": [
        {
          "output_type": "stream",
          "text": [
            "<class 'pandas.core.frame.DataFrame'>\n",
            "Int64Index: 46 entries, 0 to 46\n",
            "Data columns (total 3 columns):\n",
            " #   Column         Non-Null Count  Dtype  \n",
            "---  ------         --------------  -----  \n",
            " 0   Canal          46 non-null     object \n",
            " 1   Inscritos      46 non-null     float64\n",
            " 2   Visualizações  46 non-null     float64\n",
            "dtypes: float64(2), object(1)\n",
            "memory usage: 1.4+ KB\n"
          ],
          "name": "stdout"
        }
      ]
    },
    {
      "cell_type": "code",
      "metadata": {
        "id": "-bFGDCojAE4Y"
      },
      "source": [
        "sns.set_theme(style=\"whitegrid\")"
      ],
      "execution_count": 18,
      "outputs": []
    },
    {
      "cell_type": "markdown",
      "metadata": {
        "id": "BwbKxqsABxtF"
      },
      "source": [
        "Vemos que a concentração de views e de incritos da base está concentrada nas quantidades menores, e que temos 3 canais outliers"
      ]
    },
    {
      "cell_type": "code",
      "metadata": {
        "colab": {
          "base_uri": "https://localhost:8080/",
          "height": 303
        },
        "id": "SnUArn9LivCZ",
        "outputId": "b5971cd2-7b50-403d-b462-d905028ee495"
      },
      "source": [
        "sns.boxplot(x=df['Inscritos'])"
      ],
      "execution_count": 19,
      "outputs": [
        {
          "output_type": "execute_result",
          "data": {
            "text/plain": [
              "<matplotlib.axes._subplots.AxesSubplot at 0x7ff092681cc0>"
            ]
          },
          "metadata": {
            "tags": []
          },
          "execution_count": 19
        },
        {
          "output_type": "display_data",
          "data": {
            "image/png": "[encoded data removed]",
            "text/plain": [
              "<Figure size 432x288 with 1 Axes>"
            ]
          },
          "metadata": {
            "tags": []
          }
        }
      ]
    },
    {
      "cell_type": "code",
      "metadata": {
        "colab": {
          "base_uri": "https://localhost:8080/",
          "height": 303
        },
        "id": "31bn1XBABdz-",
        "outputId": "77326f1f-c105-434a-daeb-faafdde7f406"
      },
      "source": [
        "sns.boxplot(x=df['Visualizações'])"
      ],
      "execution_count": 20,
      "outputs": [
        {
          "output_type": "execute_result",
          "data": {
            "text/plain": [
              "<matplotlib.axes._subplots.AxesSubplot at 0x7ff0925ea6d8>"
            ]
          },
          "metadata": {
            "tags": []
          },
          "execution_count": 20
        },
        {
          "output_type": "display_data",
          "data": {
            "image/png": "[encoded data removed]",
            "text/plain": [
              "<Figure size 432x288 with 1 Axes>"
            ]
          },
          "metadata": {
            "tags": []
          }
        }
      ]
    },
    {
      "cell_type": "code",
      "metadata": {
        "colab": {
          "base_uri": "https://localhost:8080/",
          "height": 371
        },
        "id": "5zCsT-ngBkOT",
        "outputId": "cd5833bd-d2a0-4d5a-c604-99669843e1bf"
      },
      "source": [
        "sns.scatterplot(df['Inscritos'],df['Visualizações'])"
      ],
      "execution_count": 21,
      "outputs": [
        {
          "output_type": "stream",
          "text": [
            "/usr/local/lib/python3.6/dist-packages/seaborn/_decorators.py:43: FutureWarning: Pass the following variables as keyword args: x, y. From version 0.12, the only valid positional argument will be `data`, and passing other arguments without an explicit keyword will result in an error or misinterpretation.\n",
            "  FutureWarning\n"
          ],
          "name": "stderr"
        },
        {
          "output_type": "execute_result",
          "data": {
            "text/plain": [
              "<matplotlib.axes._subplots.AxesSubplot at 0x7ff0925eada0>"
            ]
          },
          "metadata": {
            "tags": []
          },
          "execution_count": 21
        },
        {
          "output_type": "display_data",
          "data": {
            "image/png": "[encoded data removed]",
            "text/plain": [
              "<Figure size 432x288 with 1 Axes>"
            ]
          },
          "metadata": {
            "tags": []
          }
        }
      ]
    },
    {
      "cell_type": "markdown",
      "metadata": {
        "id": "QR3naP98iifu"
      },
      "source": [
        "Retirando os rótulos para depois converter a numpy array"
      ]
    },
    {
      "cell_type": "code",
      "metadata": {
        "id": "Fmdw6b4qipN9"
      },
      "source": [
        "data_np = df.iloc[:,1:].to_numpy()"
      ],
      "execution_count": 22,
      "outputs": []
    },
    {
      "cell_type": "code",
      "metadata": {
        "colab": {
          "base_uri": "https://localhost:8080/"
        },
        "id": "_HmB00Gxjp_Y",
        "outputId": "14ab1fb0-9e83-4c66-c247-02e8dac09e09"
      },
      "source": [
        "data_np"
      ],
      "execution_count": 23,
      "outputs": [
        {
          "output_type": "execute_result",
          "data": {
            "text/plain": [
              "array([[1.34380000e+04, 4.06590000e+05],\n",
              "       [3.52410000e+04, 8.68235000e+05],\n",
              "       [3.16800000e+04, 2.85650800e+06],\n",
              "       [2.51000000e+04, 1.50000000e+05],\n",
              "       [3.27880000e+04, 1.57545600e+06],\n",
              "       [6.54530000e+04, 1.66789200e+06],\n",
              "       [1.20000000e+04, 1.71361000e+05],\n",
              "       [1.61951000e+05, 1.10273860e+07],\n",
              "       [7.88760000e+04, 6.22623500e+06],\n",
              "       [2.74196000e+05, 3.01664570e+07],\n",
              "       [1.31480000e+04, 2.50020000e+05],\n",
              "       [7.24250000e+04, 7.55149100e+06],\n",
              "       [7.85800000e+03, 4.36620000e+04],\n",
              "       [1.10549000e+05, 4.15154800e+06],\n",
              "       [1.11880000e+04, 5.41832000e+05],\n",
              "       [5.29900000e+03, 4.43120000e+04],\n",
              "       [5.60060000e+04, 1.32926800e+06],\n",
              "       [4.57560000e+04, 1.82572400e+06],\n",
              "       [1.42305600e+06, 9.30365170e+07],\n",
              "       [1.29466000e+05, 5.02788000e+06],\n",
              "       [1.37409000e+05, 5.36342300e+06],\n",
              "       [1.84040000e+04, 1.42797700e+06],\n",
              "       [4.20630000e+04, 1.11133400e+06],\n",
              "       [6.48892000e+05, 2.25551340e+07],\n",
              "       [1.35118000e+05, 3.37552800e+06],\n",
              "       [9.11800000e+03, 6.83190000e+05],\n",
              "       [3.74057000e+05, 1.21393850e+07],\n",
              "       [8.82110000e+04, 1.61649600e+06],\n",
              "       [3.21068000e+05, 2.62773350e+07],\n",
              "       [5.28761000e+05, 1.69693320e+07],\n",
              "       [2.48940000e+04, 8.06815000e+05],\n",
              "       [7.52573000e+05, 7.64627870e+07],\n",
              "       [6.21600000e+03, 1.04217000e+05],\n",
              "       [1.73880000e+04, 5.63535000e+05],\n",
              "       [1.10840000e+05, 4.54032100e+06],\n",
              "       [6.42100000e+03, 8.25990000e+04],\n",
              "       [3.84940000e+04, 9.16320000e+05],\n",
              "       [6.61220000e+04, 2.00962100e+06],\n",
              "       [8.60493000e+05, 1.18741623e+08],\n",
              "       [1.36610000e+04, 7.48018000e+05],\n",
              "       [2.30800000e+03, 1.61500000e+04],\n",
              "       [1.38132000e+05, 3.01326400e+06],\n",
              "       [6.41000000e+04, 2.13971700e+06],\n",
              "       [2.33000000e+03, 7.46800000e+04],\n",
              "       [4.35700000e+03, 4.12280000e+04],\n",
              "       [5.38380000e+04, 1.00492100e+06]])"
            ]
          },
          "metadata": {
            "tags": []
          },
          "execution_count": 23
        }
      ]
    },
    {
      "cell_type": "markdown",
      "metadata": {
        "id": "-rJ47xR4kiMu"
      },
      "source": [
        "Semelhante ao crescimentos dos ramos no ` Decision Three `, podemos limitar o crescimento do dendrogram onde cada pai poderá ter um número de filhos a cada nível\r\n",
        "\r\n",
        "Por meio do dendogram e usando o algortimo Ward, pasando a considerar a variância dos conjuntos. Podemos estimar o número de K clusters para o Kmeans. A maior distância entre os conjuntos definirá o número de clusters\r\n",
        "\r\n"
      ]
    },
    {
      "cell_type": "code",
      "metadata": {
        "colab": {
          "base_uri": "https://localhost:8080/",
          "height": 282
        },
        "id": "rXv0uP4Fj5f6",
        "outputId": "bea35a19-a267-4c3b-8100-546495501852"
      },
      "source": [
        "dendrogram(linkage(data_np, 'ward'), truncate_mode = 'level', p = 3)\r\n",
        "plt.show()"
      ],
      "execution_count": 24,
      "outputs": [
        {
          "output_type": "display_data",
          "data": {
            "image/png": "[encoded data removed]",
            "text/plain": [
              "<Figure size 432x288 with 1 Axes>"
            ]
          },
          "metadata": {
            "tags": []
          }
        }
      ]
    },
    {
      "cell_type": "markdown",
      "metadata": {
        "id": "O2dsFiHxpf2M"
      },
      "source": [
        "### Aplicando o algoritmo de clusterização hierárquica "
      ]
    },
    {
      "cell_type": "markdown",
      "metadata": {
        "id": "kn06G57Wq2Mk"
      },
      "source": [
        "Definição do modelo, onde o cálculo de distância escolhido foi o euclideano e critério foi o ward"
      ]
    },
    {
      "cell_type": "code",
      "metadata": {
        "id": "rJqxOYo6qfyJ"
      },
      "source": [
        "hc_model = AgglomerativeClustering(affinity = 'euclidean', linkage = 'ward')"
      ],
      "execution_count": 25,
      "outputs": []
    },
    {
      "cell_type": "markdown",
      "metadata": {
        "id": "to_ERfxVt1PD"
      },
      "source": [
        "Treinando e predizendo cada classe"
      ]
    },
    {
      "cell_type": "code",
      "metadata": {
        "id": "3hGz9dR0tzl1"
      },
      "source": [
        "hc_clusters = hc_model.fit_predict(data_np)"
      ],
      "execution_count": 26,
      "outputs": []
    },
    {
      "cell_type": "markdown",
      "metadata": {
        "id": "eKX5k_GsuXpd"
      },
      "source": [
        "Perceba que, eu não passei o número de clusters que o algoritmo deveria captar, ele usando o `Ward` definiu por si só o número de clusters, que foi justamente o observado no dendrogram feito anteriormente, onde a maior distância vertical entre as ramificações foi de 2 clusters"
      ]
    },
    {
      "cell_type": "code",
      "metadata": {
        "colab": {
          "base_uri": "https://localhost:8080/",
          "height": 1000
        },
        "id": "RH-cZROZvLEp",
        "outputId": "30e08382-29a8-45e6-d221-1c81bb356ce3"
      },
      "source": [
        "df['ClusterHierarchy'] = hc_clusters\r\n",
        "df"
      ],
      "execution_count": 27,
      "outputs": [
        {
          "output_type": "execute_result",
          "data": {
            "text/html": [
              "<div>\n",
              "<style scoped>\n",
              "    .dataframe tbody tr th:only-of-type {\n",
              "        vertical-align: middle;\n",
              "    }\n",
              "\n",
              "    .dataframe tbody tr th {\n",
              "        vertical-align: top;\n",
              "    }\n",
              "\n",
              "    .dataframe thead th {\n",
              "        text-align: right;\n",
              "    }\n",
              "</style>\n",
              "<table border=\"1\" class=\"dataframe\">\n",
              "  <thead>\n",
              "    <tr style=\"text-align: right;\">\n",
              "      <th></th>\n",
              "      <th>Canal</th>\n",
              "      <th>Inscritos</th>\n",
              "      <th>Visualizações</th>\n",
              "      <th>ClusterHierarchy</th>\n",
              "    </tr>\n",
              "  </thead>\n",
              "  <tbody>\n",
              "    <tr>\n",
              "      <th>0</th>\n",
              "      <td>Site Arqueologia Egípcia</td>\n",
              "      <td>13438.0</td>\n",
              "      <td>406590.0</td>\n",
              "      <td>0</td>\n",
              "    </tr>\n",
              "    <tr>\n",
              "      <th>1</th>\n",
              "      <td>Terra Negra</td>\n",
              "      <td>35241.0</td>\n",
              "      <td>868235.0</td>\n",
              "      <td>0</td>\n",
              "    </tr>\n",
              "    <tr>\n",
              "      <th>2</th>\n",
              "      <td>Frank Jaava</td>\n",
              "      <td>31680.0</td>\n",
              "      <td>2856508.0</td>\n",
              "      <td>0</td>\n",
              "    </tr>\n",
              "    <tr>\n",
              "      <th>3</th>\n",
              "      <td>Dispersciência</td>\n",
              "      <td>25100.0</td>\n",
              "      <td>150000.0</td>\n",
              "      <td>0</td>\n",
              "    </tr>\n",
              "    <tr>\n",
              "      <th>4</th>\n",
              "      <td>Olá Ciência</td>\n",
              "      <td>32788.0</td>\n",
              "      <td>1575456.0</td>\n",
              "      <td>0</td>\n",
              "    </tr>\n",
              "    <tr>\n",
              "      <th>5</th>\n",
              "      <td>A matemaníaca por Julia Jaccoud</td>\n",
              "      <td>65453.0</td>\n",
              "      <td>1667892.0</td>\n",
              "      <td>0</td>\n",
              "    </tr>\n",
              "    <tr>\n",
              "      <th>6</th>\n",
              "      <td>Delta T - Os super lentos</td>\n",
              "      <td>12000.0</td>\n",
              "      <td>171361.0</td>\n",
              "      <td>0</td>\n",
              "    </tr>\n",
              "    <tr>\n",
              "      <th>7</th>\n",
              "      <td>Bláblálogia</td>\n",
              "      <td>161951.0</td>\n",
              "      <td>11027386.0</td>\n",
              "      <td>0</td>\n",
              "    </tr>\n",
              "    <tr>\n",
              "      <th>8</th>\n",
              "      <td>Efarsas</td>\n",
              "      <td>78876.0</td>\n",
              "      <td>6226235.0</td>\n",
              "      <td>0</td>\n",
              "    </tr>\n",
              "    <tr>\n",
              "      <th>9</th>\n",
              "      <td>Minuto da Terra</td>\n",
              "      <td>274196.0</td>\n",
              "      <td>30166457.0</td>\n",
              "      <td>0</td>\n",
              "    </tr>\n",
              "    <tr>\n",
              "      <th>10</th>\n",
              "      <td>Canal Cura Quântica</td>\n",
              "      <td>13148.0</td>\n",
              "      <td>250020.0</td>\n",
              "      <td>0</td>\n",
              "    </tr>\n",
              "    <tr>\n",
              "      <th>11</th>\n",
              "      <td>Mensageiro Sideral</td>\n",
              "      <td>72425.0</td>\n",
              "      <td>7551491.0</td>\n",
              "      <td>0</td>\n",
              "    </tr>\n",
              "    <tr>\n",
              "      <th>12</th>\n",
              "      <td>Universo Racionalista</td>\n",
              "      <td>7858.0</td>\n",
              "      <td>43662.0</td>\n",
              "      <td>0</td>\n",
              "    </tr>\n",
              "    <tr>\n",
              "      <th>13</th>\n",
              "      <td>Xadrez Verbal</td>\n",
              "      <td>110549.0</td>\n",
              "      <td>4151548.0</td>\n",
              "      <td>0</td>\n",
              "    </tr>\n",
              "    <tr>\n",
              "      <th>14</th>\n",
              "      <td>Reinaldo José Lopes</td>\n",
              "      <td>11188.0</td>\n",
              "      <td>541832.0</td>\n",
              "      <td>0</td>\n",
              "    </tr>\n",
              "    <tr>\n",
              "      <th>15</th>\n",
              "      <td>Bio's Fera</td>\n",
              "      <td>5299.0</td>\n",
              "      <td>44312.0</td>\n",
              "      <td>0</td>\n",
              "    </tr>\n",
              "    <tr>\n",
              "      <th>16</th>\n",
              "      <td>QuerQueDesenhe</td>\n",
              "      <td>56006.0</td>\n",
              "      <td>1329268.0</td>\n",
              "      <td>0</td>\n",
              "    </tr>\n",
              "    <tr>\n",
              "      <th>17</th>\n",
              "      <td>Prof André Azevedo da Fonseca</td>\n",
              "      <td>45756.0</td>\n",
              "      <td>1825724.0</td>\n",
              "      <td>0</td>\n",
              "    </tr>\n",
              "    <tr>\n",
              "      <th>18</th>\n",
              "      <td>Matemática Rio com Prof Rafael Procópio</td>\n",
              "      <td>1423056.0</td>\n",
              "      <td>93036517.0</td>\n",
              "      <td>1</td>\n",
              "    </tr>\n",
              "    <tr>\n",
              "      <th>19</th>\n",
              "      <td>Ponto em Comum</td>\n",
              "      <td>129466.0</td>\n",
              "      <td>5027880.0</td>\n",
              "      <td>0</td>\n",
              "    </tr>\n",
              "    <tr>\n",
              "      <th>20</th>\n",
              "      <td>Canal do Slow</td>\n",
              "      <td>137409.0</td>\n",
              "      <td>5363423.0</td>\n",
              "      <td>0</td>\n",
              "    </tr>\n",
              "    <tr>\n",
              "      <th>21</th>\n",
              "      <td>Boteco Behaviorista</td>\n",
              "      <td>18404.0</td>\n",
              "      <td>1427977.0</td>\n",
              "      <td>0</td>\n",
              "    </tr>\n",
              "    <tr>\n",
              "      <th>22</th>\n",
              "      <td>Papo de Primata</td>\n",
              "      <td>42063.0</td>\n",
              "      <td>1111334.0</td>\n",
              "      <td>0</td>\n",
              "    </tr>\n",
              "    <tr>\n",
              "      <th>23</th>\n",
              "      <td>Minutos Psíquicos</td>\n",
              "      <td>648892.0</td>\n",
              "      <td>22555134.0</td>\n",
              "      <td>0</td>\n",
              "    </tr>\n",
              "    <tr>\n",
              "      <th>24</th>\n",
              "      <td>Alimente o Cérebro</td>\n",
              "      <td>135118.0</td>\n",
              "      <td>3375528.0</td>\n",
              "      <td>0</td>\n",
              "    </tr>\n",
              "    <tr>\n",
              "      <th>25</th>\n",
              "      <td>Canal Zoa</td>\n",
              "      <td>9118.0</td>\n",
              "      <td>683190.0</td>\n",
              "      <td>0</td>\n",
              "    </tr>\n",
              "    <tr>\n",
              "      <th>26</th>\n",
              "      <td>Papo de Biólogo</td>\n",
              "      <td>374057.0</td>\n",
              "      <td>12139385.0</td>\n",
              "      <td>0</td>\n",
              "    </tr>\n",
              "    <tr>\n",
              "      <th>27</th>\n",
              "      <td>Eu, Ciência</td>\n",
              "      <td>88211.0</td>\n",
              "      <td>1616496.0</td>\n",
              "      <td>0</td>\n",
              "    </tr>\n",
              "    <tr>\n",
              "      <th>29</th>\n",
              "      <td>SpaceToday</td>\n",
              "      <td>321068.0</td>\n",
              "      <td>26277335.0</td>\n",
              "      <td>0</td>\n",
              "    </tr>\n",
              "    <tr>\n",
              "      <th>30</th>\n",
              "      <td>Ciência todo dia</td>\n",
              "      <td>528761.0</td>\n",
              "      <td>16969332.0</td>\n",
              "      <td>0</td>\n",
              "    </tr>\n",
              "    <tr>\n",
              "      <th>31</th>\n",
              "      <td>Colecionadores de Ossos</td>\n",
              "      <td>24894.0</td>\n",
              "      <td>806815.0</td>\n",
              "      <td>0</td>\n",
              "    </tr>\n",
              "    <tr>\n",
              "      <th>32</th>\n",
              "      <td>Canal do Pirula</td>\n",
              "      <td>752573.0</td>\n",
              "      <td>76462787.0</td>\n",
              "      <td>1</td>\n",
              "    </tr>\n",
              "    <tr>\n",
              "      <th>33</th>\n",
              "      <td>Jornal Ciensacional</td>\n",
              "      <td>6216.0</td>\n",
              "      <td>104217.0</td>\n",
              "      <td>0</td>\n",
              "    </tr>\n",
              "    <tr>\n",
              "      <th>34</th>\n",
              "      <td>iBioMovies - Canal de Biologia</td>\n",
              "      <td>17388.0</td>\n",
              "      <td>563535.0</td>\n",
              "      <td>0</td>\n",
              "    </tr>\n",
              "    <tr>\n",
              "      <th>35</th>\n",
              "      <td>Primata Falante</td>\n",
              "      <td>110840.0</td>\n",
              "      <td>4540321.0</td>\n",
              "      <td>0</td>\n",
              "    </tr>\n",
              "    <tr>\n",
              "      <th>36</th>\n",
              "      <td>Dragões de Garagem</td>\n",
              "      <td>6421.0</td>\n",
              "      <td>82599.0</td>\n",
              "      <td>0</td>\n",
              "    </tr>\n",
              "    <tr>\n",
              "      <th>37</th>\n",
              "      <td>Café e Ciência</td>\n",
              "      <td>38494.0</td>\n",
              "      <td>916320.0</td>\n",
              "      <td>0</td>\n",
              "    </tr>\n",
              "    <tr>\n",
              "      <th>38</th>\n",
              "      <td>Mimimidias</td>\n",
              "      <td>66122.0</td>\n",
              "      <td>2009621.0</td>\n",
              "      <td>0</td>\n",
              "    </tr>\n",
              "    <tr>\n",
              "      <th>39</th>\n",
              "      <td>Schwarza - Poligonautas</td>\n",
              "      <td>860493.0</td>\n",
              "      <td>118741623.0</td>\n",
              "      <td>1</td>\n",
              "    </tr>\n",
              "    <tr>\n",
              "      <th>40</th>\n",
              "      <td>Caio na Aula</td>\n",
              "      <td>13661.0</td>\n",
              "      <td>748018.0</td>\n",
              "      <td>0</td>\n",
              "    </tr>\n",
              "    <tr>\n",
              "      <th>41</th>\n",
              "      <td>ComCiência Corporal</td>\n",
              "      <td>2308.0</td>\n",
              "      <td>16150.0</td>\n",
              "      <td>0</td>\n",
              "    </tr>\n",
              "    <tr>\n",
              "      <th>42</th>\n",
              "      <td>Leitura ObrigaHISTORIA</td>\n",
              "      <td>138132.0</td>\n",
              "      <td>3013264.0</td>\n",
              "      <td>0</td>\n",
              "    </tr>\n",
              "    <tr>\n",
              "      <th>43</th>\n",
              "      <td>Portal da Ciência</td>\n",
              "      <td>64100.0</td>\n",
              "      <td>2139717.0</td>\n",
              "      <td>0</td>\n",
              "    </tr>\n",
              "    <tr>\n",
              "      <th>44</th>\n",
              "      <td>Universo Discreto</td>\n",
              "      <td>2330.0</td>\n",
              "      <td>74680.0</td>\n",
              "      <td>0</td>\n",
              "    </tr>\n",
              "    <tr>\n",
              "      <th>45</th>\n",
              "      <td>Astrotubers</td>\n",
              "      <td>4357.0</td>\n",
              "      <td>41228.0</td>\n",
              "      <td>0</td>\n",
              "    </tr>\n",
              "    <tr>\n",
              "      <th>46</th>\n",
              "      <td>O Físico Turista</td>\n",
              "      <td>53838.0</td>\n",
              "      <td>1004921.0</td>\n",
              "      <td>0</td>\n",
              "    </tr>\n",
              "  </tbody>\n",
              "</table>\n",
              "</div>"
            ],
            "text/plain": [
              "                                      Canal  ...  ClusterHierarchy\n",
              "0                  Site Arqueologia Egípcia  ...                 0\n",
              "1                               Terra Negra  ...                 0\n",
              "2                               Frank Jaava  ...                 0\n",
              "3                            Dispersciência  ...                 0\n",
              "4                               Olá Ciência  ...                 0\n",
              "5           A matemaníaca por Julia Jaccoud  ...                 0\n",
              "6                 Delta T - Os super lentos  ...                 0\n",
              "7                               Bláblálogia  ...                 0\n",
              "8                                   Efarsas  ...                 0\n",
              "9                           Minuto da Terra  ...                 0\n",
              "10                      Canal Cura Quântica  ...                 0\n",
              "11                       Mensageiro Sideral  ...                 0\n",
              "12                    Universo Racionalista  ...                 0\n",
              "13                            Xadrez Verbal  ...                 0\n",
              "14                      Reinaldo José Lopes  ...                 0\n",
              "15                               Bio's Fera  ...                 0\n",
              "16                           QuerQueDesenhe  ...                 0\n",
              "17            Prof André Azevedo da Fonseca  ...                 0\n",
              "18  Matemática Rio com Prof Rafael Procópio  ...                 1\n",
              "19                           Ponto em Comum  ...                 0\n",
              "20                            Canal do Slow  ...                 0\n",
              "21                      Boteco Behaviorista  ...                 0\n",
              "22                          Papo de Primata  ...                 0\n",
              "23                        Minutos Psíquicos  ...                 0\n",
              "24                       Alimente o Cérebro  ...                 0\n",
              "25                                Canal Zoa  ...                 0\n",
              "26                          Papo de Biólogo  ...                 0\n",
              "27                              Eu, Ciência  ...                 0\n",
              "29                               SpaceToday  ...                 0\n",
              "30                         Ciência todo dia  ...                 0\n",
              "31                  Colecionadores de Ossos  ...                 0\n",
              "32                          Canal do Pirula  ...                 1\n",
              "33                      Jornal Ciensacional  ...                 0\n",
              "34           iBioMovies - Canal de Biologia  ...                 0\n",
              "35                          Primata Falante  ...                 0\n",
              "36                       Dragões de Garagem  ...                 0\n",
              "37                           Café e Ciência  ...                 0\n",
              "38                               Mimimidias  ...                 0\n",
              "39                  Schwarza - Poligonautas  ...                 1\n",
              "40                             Caio na Aula  ...                 0\n",
              "41                      ComCiência Corporal  ...                 0\n",
              "42                   Leitura ObrigaHISTORIA  ...                 0\n",
              "43                        Portal da Ciência  ...                 0\n",
              "44                        Universo Discreto  ...                 0\n",
              "45                              Astrotubers  ...                 0\n",
              "46                         O Físico Turista  ...                 0\n",
              "\n",
              "[46 rows x 4 columns]"
            ]
          },
          "metadata": {
            "tags": []
          },
          "execution_count": 27
        }
      ]
    },
    {
      "cell_type": "markdown",
      "metadata": {
        "id": "nQHSvIGovro1"
      },
      "source": [
        "Número de instâncias em cada cluster"
      ]
    },
    {
      "cell_type": "code",
      "metadata": {
        "colab": {
          "base_uri": "https://localhost:8080/"
        },
        "id": "i9AIbc3OvjUH",
        "outputId": "0e654092-6c26-4235-faba-330629094d2d"
      },
      "source": [
        "df['ClusterHierarchy'].value_counts()"
      ],
      "execution_count": 28,
      "outputs": [
        {
          "output_type": "execute_result",
          "data": {
            "text/plain": [
              "0    43\n",
              "1     3\n",
              "Name: ClusterHierarchy, dtype: int64"
            ]
          },
          "metadata": {
            "tags": []
          },
          "execution_count": 28
        }
      ]
    },
    {
      "cell_type": "code",
      "metadata": {
        "colab": {
          "base_uri": "https://localhost:8080/",
          "height": 301
        },
        "id": "tQeZLXhZuQz6",
        "outputId": "25bc24e1-5f74-4a2f-bec0-9d5edd230b4d"
      },
      "source": [
        "plt.scatter(\r\n",
        "    data_np[hc_clusters == 0, 0], data_np[hc_clusters == 0, 1],\r\n",
        "    s=50, c='lightgreen',\r\n",
        "    edgecolor='black',\r\n",
        "    label='Cluster 1'\r\n",
        ")\r\n",
        "\r\n",
        "plt.scatter(\r\n",
        "    data_np[hc_clusters == 1, 0], data_np[hc_clusters == 1, 1],\r\n",
        "    s=50, c='orange',\r\n",
        "    edgecolor='black',\r\n",
        "    label='Cluster 2'\r\n",
        ")\r\n",
        "\r\n",
        "plt.title(\"Canais Youtube Brasil\")\r\n",
        "plt.xlabel(\"Inscritos\")\r\n",
        "plt.ylabel(\"Visualizações\")\r\n",
        "\r\n",
        "plt.legend()\r\n",
        "plt.show()"
      ],
      "execution_count": 30,
      "outputs": [
        {
          "output_type": "display_data",
          "data": {
            "image/png": "[encoded data removed]",
            "text/plain": [
              "<Figure size 432x288 with 1 Axes>"
            ]
          },
          "metadata": {
            "tags": []
          }
        }
      ]
    },
    {
      "cell_type": "markdown",
      "metadata": {
        "id": "agYDL1Z31cQu"
      },
      "source": [
        "### Aplicando o K-Means"
      ]
    },
    {
      "cell_type": "markdown",
      "metadata": {
        "id": "oCSOMiwvis9I"
      },
      "source": [
        "Utilizando o método do cotovelo para melhorar a escolha dos centróides, onde ele vai sortear centróides mais disntantes dos já escolhidos"
      ]
    },
    {
      "cell_type": "code",
      "metadata": {
        "colab": {
          "base_uri": "https://localhost:8080/",
          "height": 301
        },
        "id": "QV1unPST1fXo",
        "outputId": "ccb0b43c-2c00-48ba-8c04-c243c8be3b00"
      },
      "source": [
        "wcss = []\r\n",
        "for i in range(1,11):\r\n",
        "\tkmeans = KMeans(n_clusters = i, init = 'k-means++', max_iter = 300, n_init = 10)\r\n",
        "\tkmeans.fit(data_np)\r\n",
        "\twcss.append(kmeans.inertia_)\r\n",
        "plt.plot(range(1, 11), wcss)\r\n",
        "plt.title('Método do Cotovelo')\r\n",
        "plt.xlabel('Número de Clusters')\r\n",
        "plt.ylabel('Within-Clusters-Sum-of-Squares')\r\n",
        "plt.show()"
      ],
      "execution_count": 31,
      "outputs": [
        {
          "output_type": "display_data",
          "data": {
            "image/png": "[encoded data removed]",
            "text/plain": [
              "<Figure size 432x288 with 1 Axes>"
            ]
          },
          "metadata": {
            "tags": []
          }
        }
      ]
    },
    {
      "cell_type": "markdown",
      "metadata": {
        "id": "4RGNtZxeqv_Q"
      },
      "source": [
        "A heurística nos indica que o K = 2 será o mais próximo do ideal"
      ]
    },
    {
      "cell_type": "markdown",
      "metadata": {
        "id": "xsIdKNyFrbad"
      },
      "source": [
        "Definindo o modelo com K=2 e fazendo a predição"
      ]
    },
    {
      "cell_type": "code",
      "metadata": {
        "id": "aJKy_LLwq5GH"
      },
      "source": [
        "kmeans = KMeans(n_clusters = 2, init = 'k-means++', max_iter = 300, n_init = 10)"
      ],
      "execution_count": 32,
      "outputs": []
    },
    {
      "cell_type": "code",
      "metadata": {
        "id": "W7klyh2OrrXF"
      },
      "source": [
        "km_clusters = kmeans.fit_predict(data_np)"
      ],
      "execution_count": 33,
      "outputs": []
    },
    {
      "cell_type": "markdown",
      "metadata": {
        "id": "pj1ZBtEjrxA3"
      },
      "source": [
        "Inserindo no DF"
      ]
    },
    {
      "cell_type": "code",
      "metadata": {
        "colab": {
          "base_uri": "https://localhost:8080/",
          "height": 1000
        },
        "id": "mhPb2oGorfaV",
        "outputId": "9309d55c-a45f-4408-b4fc-18dfd601457d"
      },
      "source": [
        "df['ClustersKMeans'] = km_clusters\r\n",
        "df"
      ],
      "execution_count": 34,
      "outputs": [
        {
          "output_type": "execute_result",
          "data": {
            "text/html": [
              "<div>\n",
              "<style scoped>\n",
              "    .dataframe tbody tr th:only-of-type {\n",
              "        vertical-align: middle;\n",
              "    }\n",
              "\n",
              "    .dataframe tbody tr th {\n",
              "        vertical-align: top;\n",
              "    }\n",
              "\n",
              "    .dataframe thead th {\n",
              "        text-align: right;\n",
              "    }\n",
              "</style>\n",
              "<table border=\"1\" class=\"dataframe\">\n",
              "  <thead>\n",
              "    <tr style=\"text-align: right;\">\n",
              "      <th></th>\n",
              "      <th>Canal</th>\n",
              "      <th>Inscritos</th>\n",
              "      <th>Visualizações</th>\n",
              "      <th>ClusterHierarchy</th>\n",
              "      <th>ClustersKMeans</th>\n",
              "    </tr>\n",
              "  </thead>\n",
              "  <tbody>\n",
              "    <tr>\n",
              "      <th>0</th>\n",
              "      <td>Site Arqueologia Egípcia</td>\n",
              "      <td>13438.0</td>\n",
              "      <td>406590.0</td>\n",
              "      <td>0</td>\n",
              "      <td>0</td>\n",
              "    </tr>\n",
              "    <tr>\n",
              "      <th>1</th>\n",
              "      <td>Terra Negra</td>\n",
              "      <td>35241.0</td>\n",
              "      <td>868235.0</td>\n",
              "      <td>0</td>\n",
              "      <td>0</td>\n",
              "    </tr>\n",
              "    <tr>\n",
              "      <th>2</th>\n",
              "      <td>Frank Jaava</td>\n",
              "      <td>31680.0</td>\n",
              "      <td>2856508.0</td>\n",
              "      <td>0</td>\n",
              "      <td>0</td>\n",
              "    </tr>\n",
              "    <tr>\n",
              "      <th>3</th>\n",
              "      <td>Dispersciência</td>\n",
              "      <td>25100.0</td>\n",
              "      <td>150000.0</td>\n",
              "      <td>0</td>\n",
              "      <td>0</td>\n",
              "    </tr>\n",
              "    <tr>\n",
              "      <th>4</th>\n",
              "      <td>Olá Ciência</td>\n",
              "      <td>32788.0</td>\n",
              "      <td>1575456.0</td>\n",
              "      <td>0</td>\n",
              "      <td>0</td>\n",
              "    </tr>\n",
              "    <tr>\n",
              "      <th>5</th>\n",
              "      <td>A matemaníaca por Julia Jaccoud</td>\n",
              "      <td>65453.0</td>\n",
              "      <td>1667892.0</td>\n",
              "      <td>0</td>\n",
              "      <td>0</td>\n",
              "    </tr>\n",
              "    <tr>\n",
              "      <th>6</th>\n",
              "      <td>Delta T - Os super lentos</td>\n",
              "      <td>12000.0</td>\n",
              "      <td>171361.0</td>\n",
              "      <td>0</td>\n",
              "      <td>0</td>\n",
              "    </tr>\n",
              "    <tr>\n",
              "      <th>7</th>\n",
              "      <td>Bláblálogia</td>\n",
              "      <td>161951.0</td>\n",
              "      <td>11027386.0</td>\n",
              "      <td>0</td>\n",
              "      <td>0</td>\n",
              "    </tr>\n",
              "    <tr>\n",
              "      <th>8</th>\n",
              "      <td>Efarsas</td>\n",
              "      <td>78876.0</td>\n",
              "      <td>6226235.0</td>\n",
              "      <td>0</td>\n",
              "      <td>0</td>\n",
              "    </tr>\n",
              "    <tr>\n",
              "      <th>9</th>\n",
              "      <td>Minuto da Terra</td>\n",
              "      <td>274196.0</td>\n",
              "      <td>30166457.0</td>\n",
              "      <td>0</td>\n",
              "      <td>0</td>\n",
              "    </tr>\n",
              "    <tr>\n",
              "      <th>10</th>\n",
              "      <td>Canal Cura Quântica</td>\n",
              "      <td>13148.0</td>\n",
              "      <td>250020.0</td>\n",
              "      <td>0</td>\n",
              "      <td>0</td>\n",
              "    </tr>\n",
              "    <tr>\n",
              "      <th>11</th>\n",
              "      <td>Mensageiro Sideral</td>\n",
              "      <td>72425.0</td>\n",
              "      <td>7551491.0</td>\n",
              "      <td>0</td>\n",
              "      <td>0</td>\n",
              "    </tr>\n",
              "    <tr>\n",
              "      <th>12</th>\n",
              "      <td>Universo Racionalista</td>\n",
              "      <td>7858.0</td>\n",
              "      <td>43662.0</td>\n",
              "      <td>0</td>\n",
              "      <td>0</td>\n",
              "    </tr>\n",
              "    <tr>\n",
              "      <th>13</th>\n",
              "      <td>Xadrez Verbal</td>\n",
              "      <td>110549.0</td>\n",
              "      <td>4151548.0</td>\n",
              "      <td>0</td>\n",
              "      <td>0</td>\n",
              "    </tr>\n",
              "    <tr>\n",
              "      <th>14</th>\n",
              "      <td>Reinaldo José Lopes</td>\n",
              "      <td>11188.0</td>\n",
              "      <td>541832.0</td>\n",
              "      <td>0</td>\n",
              "      <td>0</td>\n",
              "    </tr>\n",
              "    <tr>\n",
              "      <th>15</th>\n",
              "      <td>Bio's Fera</td>\n",
              "      <td>5299.0</td>\n",
              "      <td>44312.0</td>\n",
              "      <td>0</td>\n",
              "      <td>0</td>\n",
              "    </tr>\n",
              "    <tr>\n",
              "      <th>16</th>\n",
              "      <td>QuerQueDesenhe</td>\n",
              "      <td>56006.0</td>\n",
              "      <td>1329268.0</td>\n",
              "      <td>0</td>\n",
              "      <td>0</td>\n",
              "    </tr>\n",
              "    <tr>\n",
              "      <th>17</th>\n",
              "      <td>Prof André Azevedo da Fonseca</td>\n",
              "      <td>45756.0</td>\n",
              "      <td>1825724.0</td>\n",
              "      <td>0</td>\n",
              "      <td>0</td>\n",
              "    </tr>\n",
              "    <tr>\n",
              "      <th>18</th>\n",
              "      <td>Matemática Rio com Prof Rafael Procópio</td>\n",
              "      <td>1423056.0</td>\n",
              "      <td>93036517.0</td>\n",
              "      <td>1</td>\n",
              "      <td>1</td>\n",
              "    </tr>\n",
              "    <tr>\n",
              "      <th>19</th>\n",
              "      <td>Ponto em Comum</td>\n",
              "      <td>129466.0</td>\n",
              "      <td>5027880.0</td>\n",
              "      <td>0</td>\n",
              "      <td>0</td>\n",
              "    </tr>\n",
              "    <tr>\n",
              "      <th>20</th>\n",
              "      <td>Canal do Slow</td>\n",
              "      <td>137409.0</td>\n",
              "      <td>5363423.0</td>\n",
              "      <td>0</td>\n",
              "      <td>0</td>\n",
              "    </tr>\n",
              "    <tr>\n",
              "      <th>21</th>\n",
              "      <td>Boteco Behaviorista</td>\n",
              "      <td>18404.0</td>\n",
              "      <td>1427977.0</td>\n",
              "      <td>0</td>\n",
              "      <td>0</td>\n",
              "    </tr>\n",
              "    <tr>\n",
              "      <th>22</th>\n",
              "      <td>Papo de Primata</td>\n",
              "      <td>42063.0</td>\n",
              "      <td>1111334.0</td>\n",
              "      <td>0</td>\n",
              "      <td>0</td>\n",
              "    </tr>\n",
              "    <tr>\n",
              "      <th>23</th>\n",
              "      <td>Minutos Psíquicos</td>\n",
              "      <td>648892.0</td>\n",
              "      <td>22555134.0</td>\n",
              "      <td>0</td>\n",
              "      <td>0</td>\n",
              "    </tr>\n",
              "    <tr>\n",
              "      <th>24</th>\n",
              "      <td>Alimente o Cérebro</td>\n",
              "      <td>135118.0</td>\n",
              "      <td>3375528.0</td>\n",
              "      <td>0</td>\n",
              "      <td>0</td>\n",
              "    </tr>\n",
              "    <tr>\n",
              "      <th>25</th>\n",
              "      <td>Canal Zoa</td>\n",
              "      <td>9118.0</td>\n",
              "      <td>683190.0</td>\n",
              "      <td>0</td>\n",
              "      <td>0</td>\n",
              "    </tr>\n",
              "    <tr>\n",
              "      <th>26</th>\n",
              "      <td>Papo de Biólogo</td>\n",
              "      <td>374057.0</td>\n",
              "      <td>12139385.0</td>\n",
              "      <td>0</td>\n",
              "      <td>0</td>\n",
              "    </tr>\n",
              "    <tr>\n",
              "      <th>27</th>\n",
              "      <td>Eu, Ciência</td>\n",
              "      <td>88211.0</td>\n",
              "      <td>1616496.0</td>\n",
              "      <td>0</td>\n",
              "      <td>0</td>\n",
              "    </tr>\n",
              "    <tr>\n",
              "      <th>29</th>\n",
              "      <td>SpaceToday</td>\n",
              "      <td>321068.0</td>\n",
              "      <td>26277335.0</td>\n",
              "      <td>0</td>\n",
              "      <td>0</td>\n",
              "    </tr>\n",
              "    <tr>\n",
              "      <th>30</th>\n",
              "      <td>Ciência todo dia</td>\n",
              "      <td>528761.0</td>\n",
              "      <td>16969332.0</td>\n",
              "      <td>0</td>\n",
              "      <td>0</td>\n",
              "    </tr>\n",
              "    <tr>\n",
              "      <th>31</th>\n",
              "      <td>Colecionadores de Ossos</td>\n",
              "      <td>24894.0</td>\n",
              "      <td>806815.0</td>\n",
              "      <td>0</td>\n",
              "      <td>0</td>\n",
              "    </tr>\n",
              "    <tr>\n",
              "      <th>32</th>\n",
              "      <td>Canal do Pirula</td>\n",
              "      <td>752573.0</td>\n",
              "      <td>76462787.0</td>\n",
              "      <td>1</td>\n",
              "      <td>1</td>\n",
              "    </tr>\n",
              "    <tr>\n",
              "      <th>33</th>\n",
              "      <td>Jornal Ciensacional</td>\n",
              "      <td>6216.0</td>\n",
              "      <td>104217.0</td>\n",
              "      <td>0</td>\n",
              "      <td>0</td>\n",
              "    </tr>\n",
              "    <tr>\n",
              "      <th>34</th>\n",
              "      <td>iBioMovies - Canal de Biologia</td>\n",
              "      <td>17388.0</td>\n",
              "      <td>563535.0</td>\n",
              "      <td>0</td>\n",
              "      <td>0</td>\n",
              "    </tr>\n",
              "    <tr>\n",
              "      <th>35</th>\n",
              "      <td>Primata Falante</td>\n",
              "      <td>110840.0</td>\n",
              "      <td>4540321.0</td>\n",
              "      <td>0</td>\n",
              "      <td>0</td>\n",
              "    </tr>\n",
              "    <tr>\n",
              "      <th>36</th>\n",
              "      <td>Dragões de Garagem</td>\n",
              "      <td>6421.0</td>\n",
              "      <td>82599.0</td>\n",
              "      <td>0</td>\n",
              "      <td>0</td>\n",
              "    </tr>\n",
              "    <tr>\n",
              "      <th>37</th>\n",
              "      <td>Café e Ciência</td>\n",
              "      <td>38494.0</td>\n",
              "      <td>916320.0</td>\n",
              "      <td>0</td>\n",
              "      <td>0</td>\n",
              "    </tr>\n",
              "    <tr>\n",
              "      <th>38</th>\n",
              "      <td>Mimimidias</td>\n",
              "      <td>66122.0</td>\n",
              "      <td>2009621.0</td>\n",
              "      <td>0</td>\n",
              "      <td>0</td>\n",
              "    </tr>\n",
              "    <tr>\n",
              "      <th>39</th>\n",
              "      <td>Schwarza - Poligonautas</td>\n",
              "      <td>860493.0</td>\n",
              "      <td>118741623.0</td>\n",
              "      <td>1</td>\n",
              "      <td>1</td>\n",
              "    </tr>\n",
              "    <tr>\n",
              "      <th>40</th>\n",
              "      <td>Caio na Aula</td>\n",
              "      <td>13661.0</td>\n",
              "      <td>748018.0</td>\n",
              "      <td>0</td>\n",
              "      <td>0</td>\n",
              "    </tr>\n",
              "    <tr>\n",
              "      <th>41</th>\n",
              "      <td>ComCiência Corporal</td>\n",
              "      <td>2308.0</td>\n",
              "      <td>16150.0</td>\n",
              "      <td>0</td>\n",
              "      <td>0</td>\n",
              "    </tr>\n",
              "    <tr>\n",
              "      <th>42</th>\n",
              "      <td>Leitura ObrigaHISTORIA</td>\n",
              "      <td>138132.0</td>\n",
              "      <td>3013264.0</td>\n",
              "      <td>0</td>\n",
              "      <td>0</td>\n",
              "    </tr>\n",
              "    <tr>\n",
              "      <th>43</th>\n",
              "      <td>Portal da Ciência</td>\n",
              "      <td>64100.0</td>\n",
              "      <td>2139717.0</td>\n",
              "      <td>0</td>\n",
              "      <td>0</td>\n",
              "    </tr>\n",
              "    <tr>\n",
              "      <th>44</th>\n",
              "      <td>Universo Discreto</td>\n",
              "      <td>2330.0</td>\n",
              "      <td>74680.0</td>\n",
              "      <td>0</td>\n",
              "      <td>0</td>\n",
              "    </tr>\n",
              "    <tr>\n",
              "      <th>45</th>\n",
              "      <td>Astrotubers</td>\n",
              "      <td>4357.0</td>\n",
              "      <td>41228.0</td>\n",
              "      <td>0</td>\n",
              "      <td>0</td>\n",
              "    </tr>\n",
              "    <tr>\n",
              "      <th>46</th>\n",
              "      <td>O Físico Turista</td>\n",
              "      <td>53838.0</td>\n",
              "      <td>1004921.0</td>\n",
              "      <td>0</td>\n",
              "      <td>0</td>\n",
              "    </tr>\n",
              "  </tbody>\n",
              "</table>\n",
              "</div>"
            ],
            "text/plain": [
              "                                      Canal  ...  ClustersKMeans\n",
              "0                  Site Arqueologia Egípcia  ...               0\n",
              "1                               Terra Negra  ...               0\n",
              "2                               Frank Jaava  ...               0\n",
              "3                            Dispersciência  ...               0\n",
              "4                               Olá Ciência  ...               0\n",
              "5           A matemaníaca por Julia Jaccoud  ...               0\n",
              "6                 Delta T - Os super lentos  ...               0\n",
              "7                               Bláblálogia  ...               0\n",
              "8                                   Efarsas  ...               0\n",
              "9                           Minuto da Terra  ...               0\n",
              "10                      Canal Cura Quântica  ...               0\n",
              "11                       Mensageiro Sideral  ...               0\n",
              "12                    Universo Racionalista  ...               0\n",
              "13                            Xadrez Verbal  ...               0\n",
              "14                      Reinaldo José Lopes  ...               0\n",
              "15                               Bio's Fera  ...               0\n",
              "16                           QuerQueDesenhe  ...               0\n",
              "17            Prof André Azevedo da Fonseca  ...               0\n",
              "18  Matemática Rio com Prof Rafael Procópio  ...               1\n",
              "19                           Ponto em Comum  ...               0\n",
              "20                            Canal do Slow  ...               0\n",
              "21                      Boteco Behaviorista  ...               0\n",
              "22                          Papo de Primata  ...               0\n",
              "23                        Minutos Psíquicos  ...               0\n",
              "24                       Alimente o Cérebro  ...               0\n",
              "25                                Canal Zoa  ...               0\n",
              "26                          Papo de Biólogo  ...               0\n",
              "27                              Eu, Ciência  ...               0\n",
              "29                               SpaceToday  ...               0\n",
              "30                         Ciência todo dia  ...               0\n",
              "31                  Colecionadores de Ossos  ...               0\n",
              "32                          Canal do Pirula  ...               1\n",
              "33                      Jornal Ciensacional  ...               0\n",
              "34           iBioMovies - Canal de Biologia  ...               0\n",
              "35                          Primata Falante  ...               0\n",
              "36                       Dragões de Garagem  ...               0\n",
              "37                           Café e Ciência  ...               0\n",
              "38                               Mimimidias  ...               0\n",
              "39                  Schwarza - Poligonautas  ...               1\n",
              "40                             Caio na Aula  ...               0\n",
              "41                      ComCiência Corporal  ...               0\n",
              "42                   Leitura ObrigaHISTORIA  ...               0\n",
              "43                        Portal da Ciência  ...               0\n",
              "44                        Universo Discreto  ...               0\n",
              "45                              Astrotubers  ...               0\n",
              "46                         O Físico Turista  ...               0\n",
              "\n",
              "[46 rows x 5 columns]"
            ]
          },
          "metadata": {
            "tags": []
          },
          "execution_count": 34
        }
      ]
    },
    {
      "cell_type": "markdown",
      "metadata": {
        "id": "vqwEtreMr3Wk"
      },
      "source": [
        "O KMeans e a clusterização hierárquica chegaram em uma mesma conclusão, então é um bom indício de funcionamento de agrupamento"
      ]
    },
    {
      "cell_type": "code",
      "metadata": {
        "colab": {
          "base_uri": "https://localhost:8080/"
        },
        "id": "tOKepvgUsCVh",
        "outputId": "12cb637a-a5f0-489f-9273-544c3ad17bd3"
      },
      "source": [
        "df['ClustersKMeans'].value_counts()"
      ],
      "execution_count": 35,
      "outputs": [
        {
          "output_type": "execute_result",
          "data": {
            "text/plain": [
              "0    43\n",
              "1     3\n",
              "Name: ClustersKMeans, dtype: int64"
            ]
          },
          "metadata": {
            "tags": []
          },
          "execution_count": 35
        }
      ]
    },
    {
      "cell_type": "code",
      "metadata": {
        "colab": {
          "base_uri": "https://localhost:8080/",
          "height": 301
        },
        "id": "pZSA19mHtBcG",
        "outputId": "5ef4f192-bbaa-45af-e784-68f13f41550b"
      },
      "source": [
        "plt.scatter(\r\n",
        "    data_np[km_clusters == 0, 0], data_np[km_clusters == 0, 1],\r\n",
        "    s=50, c='lightgreen',\r\n",
        "    edgecolor='black',\r\n",
        "    label='Cluster 1'\r\n",
        ")\r\n",
        "\r\n",
        "plt.scatter(\r\n",
        "    data_np[km_clusters == 1, 0], data_np[km_clusters == 1, 1],\r\n",
        "    s=50, c='orange',\r\n",
        "    edgecolor='black',\r\n",
        "    label='Cluster 2'\r\n",
        ")\r\n",
        "\r\n",
        "#centroids\r\n",
        "plt.scatter(\r\n",
        "    kmeans.cluster_centers_[:, 0], kmeans.cluster_centers_[:, 1],\r\n",
        "    s=200, c='red', edgecolor='black',\r\n",
        "    label='Centroides'\r\n",
        ")\r\n",
        "plt.title(\"Canais Youtube Brasil\")\r\n",
        "plt.xlabel(\"Inscritos\")\r\n",
        "plt.ylabel(\"Visualizações\")\r\n",
        "\r\n",
        "plt.legend()\r\n",
        "plt.show()"
      ],
      "execution_count": 37,
      "outputs": [
        {
          "output_type": "display_data",
          "data": {
            "image/png": "[encoded data removed]",
            "text/plain": [
              "<Figure size 432x288 with 1 Axes>"
            ]
          },
          "metadata": {
            "tags": []
          }
        }
      ]
    },
    {
      "cell_type": "markdown",
      "metadata": {
        "id": "_ODc4h_-ErPA"
      },
      "source": [
        "Com esse experimento podemos acompanhar a eficiência dos algoritmos de clusterização em capturar similiariedades de dados"
      ]
    }
  ]
}